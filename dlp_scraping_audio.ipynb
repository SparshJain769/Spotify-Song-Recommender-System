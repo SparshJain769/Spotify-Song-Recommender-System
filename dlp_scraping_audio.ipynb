{
  "metadata": {
    "kernelspec": {
      "language": "python",
      "display_name": "Python 3",
      "name": "python3"
    },
    "language_info": {
      "name": "python",
      "version": "3.10.13",
      "mimetype": "text/x-python",
      "codemirror_mode": {
        "name": "ipython",
        "version": 3
      },
      "pygments_lexer": "ipython3",
      "nbconvert_exporter": "python",
      "file_extension": ".py"
    },
    "kaggle": {
      "accelerator": "none",
      "dataSources": [
        {
          "sourceId": 8865555,
          "sourceType": "datasetVersion",
          "datasetId": 5335909
        }
      ],
      "dockerImageVersionId": 30732,
      "isInternetEnabled": true,
      "language": "python",
      "sourceType": "notebook",
      "isGpuEnabled": false
    },
    "colab": {
      "provenance": []
    }
  },
  "nbformat_minor": 0,
  "nbformat": 4,
  "cells": [
    {
      "cell_type": "code",
      "source": [
        "# This Python 3 environment comes with many helpful analytics libraries installed\n",
        "# It is defined by the kaggle/python Docker image: https://github.com/kaggle/docker-python\n",
        "# For example, here's several helpful packages to load\n",
        "\n",
        "import numpy as np # linear algebra\n",
        "import pandas as pd # data processing, CSV file I/O (e.g. pd.read_csv)\n",
        "\n",
        "# Input data files are available in the read-only \"../input/\" directory\n",
        "# For example, running this (by clicking run or pressing Shift+Enter) will list all files under the input directory\n",
        "\n",
        "import os\n",
        "for dirname, _, filenames in os.walk('/kaggle/input'):\n",
        "    for filename in filenames:\n",
        "        print(os.path.join(dirname, filename))\n",
        "\n",
        "# You can write up to 20GB to the current directory (/kaggle/working/) that gets preserved as output when you create a version using \"Save & Run All\"\n",
        "# You can also write temporary files to /kaggle/temp/, but they won't be saved outside of the current session"
      ],
      "metadata": {
        "_uuid": "8f2839f25d086af736a60e9eeb907d3b93b6e0e5",
        "_cell_guid": "b1076dfc-b9ad-4769-8c92-a6c4dae69d19",
        "execution": {
          "iopub.status.busy": "2024-07-07T07:20:59.659279Z",
          "iopub.execute_input": "2024-07-07T07:20:59.659732Z",
          "iopub.status.idle": "2024-07-07T07:21:00.158141Z",
          "shell.execute_reply.started": "2024-07-07T07:20:59.659695Z",
          "shell.execute_reply": "2024-07-07T07:21:00.156799Z"
        },
        "trusted": true,
        "id": "3GbWJDTfxaIK",
        "outputId": "b85af6c1-d40b-4eca-ea92-fa25539c6c32"
      },
      "execution_count": null,
      "outputs": [
        {
          "name": "stdout",
          "text": "/kaggle/input/combined-data-of-all-songs/updated_songs_data (1).csv\n",
          "output_type": "stream"
        }
      ]
    },
    {
      "cell_type": "code",
      "source": [
        "! pip install yt_dlp"
      ],
      "metadata": {
        "execution": {
          "iopub.status.busy": "2024-07-07T07:21:31.589266Z",
          "iopub.execute_input": "2024-07-07T07:21:31.589820Z",
          "iopub.status.idle": "2024-07-07T07:21:53.170196Z",
          "shell.execute_reply.started": "2024-07-07T07:21:31.589770Z",
          "shell.execute_reply": "2024-07-07T07:21:53.168690Z"
        },
        "trusted": true,
        "id": "nNyywXYSxaIP",
        "outputId": "b49106ac-3e75-483f-e84c-65cc9795cfbb"
      },
      "execution_count": null,
      "outputs": [
        {
          "name": "stdout",
          "text": "Collecting yt_dlp\n  Downloading yt_dlp-2024.7.2-py3-none-any.whl.metadata (169 kB)\n\u001b[2K     \u001b[90m━━━━━━━━━━━━━━━━━━━━━━━━━━━━━━━━━━━━━━━\u001b[0m \u001b[32m169.3/169.3 kB\u001b[0m \u001b[31m1.4 MB/s\u001b[0m eta \u001b[36m0:00:00\u001b[0ma \u001b[36m0:00:01\u001b[0m\n\u001b[?25hRequirement already satisfied: brotli in /opt/conda/lib/python3.10/site-packages (from yt_dlp) (1.1.0)\nRequirement already satisfied: certifi in /opt/conda/lib/python3.10/site-packages (from yt_dlp) (2024.2.2)\nCollecting mutagen (from yt_dlp)\n  Downloading mutagen-1.47.0-py3-none-any.whl.metadata (1.7 kB)\nCollecting pycryptodomex (from yt_dlp)\n  Downloading pycryptodomex-3.20.0-cp35-abi3-manylinux_2_17_x86_64.manylinux2014_x86_64.whl.metadata (3.4 kB)\nRequirement already satisfied: requests<3,>=2.32.2 in /opt/conda/lib/python3.10/site-packages (from yt_dlp) (2.32.3)\nRequirement already satisfied: urllib3<3,>=1.26.17 in /opt/conda/lib/python3.10/site-packages (from yt_dlp) (1.26.18)\nRequirement already satisfied: websockets>=12.0 in /opt/conda/lib/python3.10/site-packages (from yt_dlp) (12.0)\nRequirement already satisfied: charset-normalizer<4,>=2 in /opt/conda/lib/python3.10/site-packages (from requests<3,>=2.32.2->yt_dlp) (3.3.2)\nRequirement already satisfied: idna<4,>=2.5 in /opt/conda/lib/python3.10/site-packages (from requests<3,>=2.32.2->yt_dlp) (3.6)\nDownloading yt_dlp-2024.7.2-py3-none-any.whl (3.1 MB)\n\u001b[2K   \u001b[90m━━━━━━━━━━━━━━━━━━━━━━━━━━━━━━━━━━━━━━━━\u001b[0m \u001b[32m3.1/3.1 MB\u001b[0m \u001b[31m19.7 MB/s\u001b[0m eta \u001b[36m0:00:00\u001b[0m00:01\u001b[0m00:01\u001b[0m\n\u001b[?25hDownloading mutagen-1.47.0-py3-none-any.whl (194 kB)\n\u001b[2K   \u001b[90m━━━━━━━━━━━━━━━━━━━━━━━━━━━━━━━━━━━━━━━━\u001b[0m \u001b[32m194.4/194.4 kB\u001b[0m \u001b[31m10.8 MB/s\u001b[0m eta \u001b[36m0:00:00\u001b[0m\n\u001b[?25hDownloading pycryptodomex-3.20.0-cp35-abi3-manylinux_2_17_x86_64.manylinux2014_x86_64.whl (2.1 MB)\n\u001b[2K   \u001b[90m━━━━━━━━━━━━━━━━━━━━━━━━━━━━━━━━━━━━━━━━\u001b[0m \u001b[32m2.1/2.1 MB\u001b[0m \u001b[31m32.4 MB/s\u001b[0m eta \u001b[36m0:00:00\u001b[0mta \u001b[36m0:00:01\u001b[0m\n\u001b[?25hInstalling collected packages: pycryptodomex, mutagen, yt_dlp\nSuccessfully installed mutagen-1.47.0 pycryptodomex-3.20.0 yt_dlp-2024.7.2\n",
          "output_type": "stream"
        }
      ]
    },
    {
      "cell_type": "code",
      "source": [
        "! pip install tqdm"
      ],
      "metadata": {
        "execution": {
          "iopub.status.busy": "2024-07-07T07:21:58.449935Z",
          "iopub.execute_input": "2024-07-07T07:21:58.450372Z",
          "iopub.status.idle": "2024-07-07T07:22:13.741405Z",
          "shell.execute_reply.started": "2024-07-07T07:21:58.450334Z",
          "shell.execute_reply": "2024-07-07T07:22:13.740155Z"
        },
        "trusted": true,
        "id": "du3E4WXHxaIS",
        "outputId": "7d00d6d1-9ac4-4a38-ba10-8b67b2591727"
      },
      "execution_count": null,
      "outputs": [
        {
          "name": "stdout",
          "text": "Requirement already satisfied: tqdm in /opt/conda/lib/python3.10/site-packages (4.66.4)\n",
          "output_type": "stream"
        }
      ]
    },
    {
      "cell_type": "code",
      "source": [
        "import pandas as pd\n",
        "import yt_dlp\n",
        "import logging\n",
        "from yt_dlp.utils import DownloadError\n",
        "from tqdm import tqdm\n",
        "import time\n",
        "import os\n",
        "from concurrent.futures import ThreadPoolExecutor, as_completed\n",
        "\n",
        "# Set up logging\n",
        "logging.basicConfig(level=logging.INFO, format='%(asctime)s - %(levelname)s - %(message)s')\n",
        "logger = logging.getLogger()\n",
        "\n",
        "# Create directory for audio files if it doesn't exist\n",
        "audio_dir = 'audio_files'\n",
        "os.makedirs(audio_dir, exist_ok=True)\n",
        "\n",
        "# Load the CSV file\n",
        "df = pd.read_csv('/kaggle/input/combined-data-of-all-songs/updated_songs_data (1).csv')\n",
        "\n",
        "# Configure yt-dlp with the proper logger\n",
        "ydl_opts = {\n",
        "    'format': 'bestaudio/best',\n",
        "    'postprocessors': [{\n",
        "        'key': 'FFmpegExtractAudio',\n",
        "        'preferredcodec': 'mp3',\n",
        "        'preferredquality': '192',\n",
        "    }],\n",
        "    'external_downloader_args': ['-codec:a', 'libmp3lame'],\n",
        "    'quiet': True,  # Keep yt-dlp's output quiet so tqdm can display cleanly\n",
        "    'noplaylist': True,\n",
        "    'ignoreerrors': True,\n",
        "    'logger': logger,\n",
        "}\n",
        "\n",
        "# Function to download and convert a single song\n",
        "def download_and_convert_song(search_query, download_path):\n",
        "    with yt_dlp.YoutubeDL(ydl_opts) as ydl:\n",
        "        try:\n",
        "            start_time = time.time()\n",
        "            ydl.download([f'ytsearch:{search_query}'])\n",
        "            duration = time.time() - start_time\n",
        "            logger.info(f\"Downloaded and converted: {search_query} in {duration:.2f} seconds\")\n",
        "            return duration\n",
        "        except DownloadError as e:\n",
        "            logger.error(f\"Download failed for {search_query}: {str(e)}\")\n",
        "        except Exception as e:\n",
        "            logger.error(f\"Unexpected error for {search_query}: {str(e)}\")\n",
        "    return None\n",
        "\n",
        "# Function to manage download tasks\n",
        "def download_manager(start_index, end_index):\n",
        "    futures = []\n",
        "    start_time = time.time()  # Start timing the download process\n",
        "\n",
        "    with ThreadPoolExecutor(max_workers=10) as executor:\n",
        "        # Submit all download tasks\n",
        "        for index, row in df.iloc[start_index:end_index].iterrows():\n",
        "            song_name = row['song_title']\n",
        "            artist_name = row['artist_name']\n",
        "            query = f\"{song_name} {artist_name}\"\n",
        "            file_path = f\"{audio_dir}/{song_name.replace('/', '')} - {artist_name.replace('/', '')}.mp3\"\n",
        "            futures.append(executor.submit(download_and_convert_song, query, file_path))\n",
        "\n",
        "        # Use tqdm to display progress\n",
        "        for future in tqdm(as_completed(futures), total=len(futures), desc=\"Downloading songs\", unit=\"song\"):\n",
        "            future.result()\n",
        "\n",
        "    elapsed_time = time.time() - start_time  # Calculate total elapsed time\n",
        "    print(f\"Total elapsed time for all downloads: {elapsed_time:.2f} seconds\")\n",
        "\n",
        "# Define starting and ending points for the download directly in the script\n",
        "start_index = 0\n",
        "end_index = 3000  # Adjust as needed\n",
        "\n",
        "download_manager(start_index, end_index)\n",
        "print(\"All downloads attempted.\")"
      ],
      "metadata": {
        "execution": {
          "iopub.status.busy": "2024-07-07T07:22:21.905775Z",
          "iopub.execute_input": "2024-07-07T07:22:21.906330Z",
          "iopub.status.idle": "2024-07-07T07:23:48.481878Z",
          "shell.execute_reply.started": "2024-07-07T07:22:21.906292Z",
          "shell.execute_reply": "2024-07-07T07:23:48.169253Z"
        },
        "trusted": true,
        "id": "T2E3dKE9xaIS",
        "outputId": "fe662371-6c53-4eeb-d6f0-5f6f3df76091"
      },
      "execution_count": null,
      "outputs": [
        {
          "name": "stderr",
          "text": "\nKeyboardInterrupt\n\n",
          "output_type": "stream"
        }
      ]
    },
    {
      "cell_type": "code",
      "source": [],
      "metadata": {
        "id": "7M77IV1BxaIT"
      },
      "execution_count": null,
      "outputs": []
    }
  ]
}