{
  "metadata": {
    "kernelspec": {
      "language": "python",
      "display_name": "Python 3",
      "name": "python3"
    },
    "language_info": {
      "name": "python",
      "version": "3.10.13",
      "mimetype": "text/x-python",
      "codemirror_mode": {
        "name": "ipython",
        "version": 3
      },
      "pygments_lexer": "ipython3",
      "nbconvert_exporter": "python",
      "file_extension": ".py"
    },
    "kaggle": {
      "accelerator": "none",
      "dataSources": [
        {
          "sourceId": 8855446,
          "sourceType": "datasetVersion",
          "datasetId": 5330664
        }
      ],
      "dockerImageVersionId": 30732,
      "isInternetEnabled": true,
      "language": "python",
      "sourceType": "notebook",
      "isGpuEnabled": false
    },
    "colab": {
      "provenance": []
    }
  },
  "nbformat_minor": 0,
  "nbformat": 4,
  "cells": [
    {
      "cell_type": "code",
      "source": [
        "# This Python 3 environment comes with many helpful analytics libraries installed\n",
        "# It is defined by the kaggle/python Docker image: https://github.com/kaggle/docker-python\n",
        "# For example, here's several helpful packages to load\n",
        "\n",
        "import numpy as np # linear algebra\n",
        "import pandas as pd # data processing, CSV file I/O (e.g. pd.read_csv)\n",
        "\n",
        "# Input data files are available in the read-only \"../input/\" directory\n",
        "# For example, running this (by clicking run or pressing Shift+Enter) will list all files under the input directory\n",
        "\n",
        "import os\n",
        "for dirname, _, filenames in os.walk('/kaggle/input'):\n",
        "    for filename in filenames:\n",
        "        print(os.path.join(dirname, filename))\n",
        "\n",
        "# You can write up to 20GB to the current directory (/kaggle/working/) that gets preserved as output when you create a version using \"Save & Run All\"\n",
        "# You can also write temporary files to /kaggle/temp/, but they won't be saved outside of the current session"
      ],
      "metadata": {
        "_uuid": "8f2839f25d086af736a60e9eeb907d3b93b6e0e5",
        "_cell_guid": "b1076dfc-b9ad-4769-8c92-a6c4dae69d19",
        "execution": {
          "iopub.status.busy": "2024-07-04T10:39:20.054335Z",
          "iopub.execute_input": "2024-07-04T10:39:20.055030Z",
          "iopub.status.idle": "2024-07-04T10:39:20.629822Z",
          "shell.execute_reply.started": "2024-07-04T10:39:20.054964Z",
          "shell.execute_reply": "2024-07-04T10:39:20.628436Z"
        },
        "trusted": true,
        "id": "lWxucJlqxgtq"
      },
      "execution_count": null,
      "outputs": []
    },
    {
      "cell_type": "code",
      "source": [],
      "metadata": {
        "id": "12JuYwkYrH5H"
      },
      "execution_count": null,
      "outputs": []
    },
    {
      "cell_type": "code",
      "source": [
        "!pip install tqdm\n"
      ],
      "metadata": {
        "execution": {
          "iopub.status.busy": "2024-07-04T10:39:24.083322Z",
          "iopub.execute_input": "2024-07-04T10:39:24.085120Z",
          "iopub.status.idle": "2024-07-04T10:39:41.776134Z",
          "shell.execute_reply.started": "2024-07-04T10:39:24.085059Z",
          "shell.execute_reply": "2024-07-04T10:39:41.774522Z"
        },
        "trusted": true,
        "id": "0slIjuybxgtt"
      },
      "execution_count": null,
      "outputs": []
    },
    {
      "cell_type": "code",
      "source": [
        "import requests\n",
        "import pandas as pd\n",
        "import json\n",
        "from tqdm import tqdm\n",
        "import time\n",
        "\n",
        "def get_spotify_token(client_id, client_secret):\n",
        "    url = \"https://accounts.spotify.com/api/token\"\n",
        "    headers = {'Content-Type': 'application/x-www-form-urlencoded'}\n",
        "    payload = {'grant_type': 'client_credentials'}\n",
        "    response = requests.post(url, headers=headers, data=payload, auth=(client_id, client_secret))\n",
        "    token = response.json().get('access_token')\n",
        "    return token\n",
        "\n",
        "def safe_request(url, headers):\n",
        "    max_retries = 5  # Set a maximum number of retries\n",
        "    retry_delay = 1  # Start with a 1 second delay\n",
        "    for attempt in range(max_retries):\n",
        "        response = requests.get(url, headers=headers)\n",
        "        if response.status_code == 429:  # Rate limit exceeded\n",
        "            retry_after = int(response.headers.get('Retry-After', retry_delay))\n",
        "            print(f\"Rate limit exceeded. Retrying after {retry_after} seconds.\")\n",
        "            if retry_after > 3600:  # If the wait time is longer than an hour\n",
        "                print(f\"Long wait detected. Pausing and resuming after {retry_after} seconds.\")\n",
        "            time.sleep(retry_after)\n",
        "            retry_delay *= 2  # Double the delay for the next attempt if needed again\n",
        "        elif response.status_code == 200:\n",
        "            return response.json()\n",
        "        else:\n",
        "            response.raise_for_status()\n",
        "    raise Exception(\"Max retries exceeded for API request\")\n",
        "\n",
        "def get_artist_details(artist_id, token):\n",
        "    url = f\"https://api.spotify.com/v1/artists/{artist_id}\"\n",
        "    headers = {'Authorization': f'Bearer {token}'}\n",
        "    try:\n",
        "        artist_data = safe_request(url, headers)\n",
        "        return {'artist_genre': ', '.join(artist_data['genres']) if 'genres' in artist_data and artist_data['genres'] else 'No Genre'}\n",
        "    except Exception as e:\n",
        "        print(f\"Error fetching artist details: {e}\")\n",
        "        return {'artist_genre': 'No Genre'}  # Return a default value in case of error\n",
        "\n",
        "def get_track_details(track_id, token):\n",
        "    url = f\"https://api.spotify.com/v1/tracks/{track_id}\"\n",
        "    headers = {'Authorization': f'Bearer {token}'}\n",
        "    try:\n",
        "        track_data = safe_request(url, headers)\n",
        "        artist_info = get_artist_details(track_data['artists'][0]['id'], token)\n",
        "        track_info = {\n",
        "            'song_title': track_data['name'],\n",
        "            'song_id': track_data['id'],\n",
        "            'track_popularity': track_data['popularity'],\n",
        "            'track_duration': track_data['duration_ms'],\n",
        "            'explicit': track_data['explicit'],\n",
        "            'artist_name': track_data['artists'][0]['name'],\n",
        "            'artist_id': track_data['artists'][0]['id'],\n",
        "            'artist_genre': artist_info['artist_genre'],\n",
        "            'album_id': track_data['album']['id'],\n",
        "            'album_type': track_data['album']['album_type'],\n",
        "            'release_date': track_data['album']['release_date']\n",
        "        }\n",
        "        return track_info\n",
        "    except Exception as e:\n",
        "        print(f\"Error fetching track details: {e}\")\n",
        "        return {}  # Return an empty dictionary if there's an error\n",
        "\n",
        "def get_audio_features(track_id, token):\n",
        "    url = f\"https://api.spotify.com/v1/audio-features/{track_id}\"\n",
        "    headers = {'Authorization': f'Bearer {token}'}\n",
        "    try:\n",
        "        audio_features = safe_request(url, headers)\n",
        "        return audio_features\n",
        "    except Exception as e:\n",
        "        print(f\"Error fetching audio features: {e}\")\n",
        "        return {}  # Return an empty dictionary if there's an error\n",
        "\n",
        "client_id = '80d18beea941408b84e4040548a13895'\n",
        "client_secret = '46ee063bd0f244ec99e6639500e842f2'\n",
        "token = get_spotify_token(client_id, client_secret)\n",
        "\n",
        "# Load track IDs from JSON file\n",
        "with open('/kaggle/input/spotify-songs-id/songs.json') as file:\n",
        "    track_ids = json.load(file)\n",
        "\n",
        "# Process tracks in batches of 500\n",
        "for i in range(20000, len(track_ids), 500):  # Adjusted from 2000 to 500\n",
        "    batch = track_ids[i:i+500]\n",
        "    batch_data = []\n",
        "    print(f\"Starting batch {i//500 + 1}...\")\n",
        "    for index, tid in enumerate(tqdm(batch, desc=f\"Fetching batch {i//500 + 1}\")):\n",
        "        track_details = get_track_details(tid, token)\n",
        "        audio_features = get_audio_features(tid, token)\n",
        "        if track_details and audio_features:\n",
        "            combined_data = {**track_details, **audio_features}\n",
        "            batch_data.append(combined_data)\n",
        "        else:\n",
        "            print(f\"Warning: Missing data for track ID {tid}\")\n",
        "\n",
        "        if (index + 1) % 20 == 0:  # After every 20 songs, add a delay\n",
        "            time.sleep(1)  # Sleep for 1 second (adjust based on your needs)\n",
        "\n",
        "    if batch_data:\n",
        "        df = pd.DataFrame(batch_data)\n",
        "        csv_filename = f'spotify_data_{i//500 + 1}.csv'\n",
        "        df.to_csv(csv_filename, index=False)\n",
        "        print(f\"Batch {i//500 + 1} complete and saved to {csv_filename}.\")\n",
        "    else:\n",
        "        print(f\"No data to save for batch {i//500 + 1}.\")\n"
      ],
      "metadata": {
        "execution": {
          "iopub.status.busy": "2024-07-04T10:40:06.288836Z",
          "iopub.execute_input": "2024-07-04T10:40:06.289307Z"
        },
        "trusted": true,
        "id": "V30jwEFIxgtt"
      },
      "execution_count": null,
      "outputs": []
    },
    {
      "cell_type": "code",
      "source": [],
      "metadata": {
        "id": "PkzJRHNhxgtu"
      },
      "execution_count": null,
      "outputs": []
    }
  ]
}